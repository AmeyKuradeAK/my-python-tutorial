{
 "cells": [
  {
   "cell_type": "markdown",
   "id": "241bb0f5",
   "metadata": {},
   "source": [
    "# Base Example"
   ]
  },
  {
   "cell_type": "code",
   "execution_count": null,
   "id": "42ab55e0",
   "metadata": {},
   "outputs": [],
   "source": [
    "import numpy as np\n",
    "\n",
    "arr = np.array([1, 2, 3, 4, 5])\n",
    "\n",
    "print(arr)\n",
    "\n",
    "print(type(arr))"
   ]
  },
  {
   "cell_type": "markdown",
   "id": "c272602f",
   "metadata": {},
   "source": [
    "# Getting Started"
   ]
  },
  {
   "cell_type": "code",
   "execution_count": 2,
   "id": "2c0d8c8a",
   "metadata": {},
   "outputs": [
    {
     "name": "stdout",
     "output_type": "stream",
     "text": [
      "[1 2 3 4 5]\n"
     ]
    }
   ],
   "source": [
    "import numpy\n",
    "\n",
    "arr = numpy.array([1, 2, 3, 4, 5])\n",
    "\n",
    "print(arr)"
   ]
  },
  {
   "cell_type": "markdown",
   "id": "a351425f",
   "metadata": {},
   "source": [
    "## Usage of Numpy"
   ]
  },
  {
   "cell_type": "code",
   "execution_count": 3,
   "id": "1af7ed02",
   "metadata": {},
   "outputs": [
    {
     "name": "stdout",
     "output_type": "stream",
     "text": [
      "[1 2 3 4 5]\n"
     ]
    }
   ],
   "source": [
    "import numpy as np\n",
    "\n",
    "arr = np.array([1, 2, 3, 4, 5])\n",
    "\n",
    "print(arr)"
   ]
  },
  {
   "cell_type": "markdown",
   "id": "bdbd545b",
   "metadata": {},
   "source": [
    "## Checking Numpy Version"
   ]
  },
  {
   "cell_type": "code",
   "execution_count": 4,
   "id": "ceab04b6",
   "metadata": {},
   "outputs": [
    {
     "name": "stdout",
     "output_type": "stream",
     "text": [
      "2.0.2\n"
     ]
    }
   ],
   "source": [
    "import numpy as np\n",
    "\n",
    "print(np.__version__)"
   ]
  },
  {
   "cell_type": "markdown",
   "id": "18874964",
   "metadata": {},
   "source": [
    "# Creating Array"
   ]
  },
  {
   "cell_type": "markdown",
   "id": "08f2b5bc",
   "metadata": {},
   "source": [
    "## Creating ndarray object"
   ]
  },
  {
   "cell_type": "code",
   "execution_count": 1,
   "id": "0b82066f",
   "metadata": {},
   "outputs": [
    {
     "name": "stdout",
     "output_type": "stream",
     "text": [
      "[1 2 3 4 5]\n",
      "<class 'numpy.ndarray'>\n"
     ]
    }
   ],
   "source": [
    "import numpy as np\n",
    "\n",
    "arr = np.array([1, 2, 3, 4, 5])\n",
    "\n",
    "print(arr)\n",
    "\n",
    "print(type(arr))"
   ]
  },
  {
   "cell_type": "markdown",
   "id": "97925c2a",
   "metadata": {},
   "source": [
    "## 0-D Arrays"
   ]
  },
  {
   "cell_type": "code",
   "execution_count": 2,
   "id": "c9a850d7",
   "metadata": {},
   "outputs": [
    {
     "name": "stdout",
     "output_type": "stream",
     "text": [
      "42\n"
     ]
    }
   ],
   "source": [
    "import numpy as np\n",
    "\n",
    "arr = np.array(42)\n",
    "\n",
    "print(arr)"
   ]
  },
  {
   "cell_type": "markdown",
   "id": "03d22ffd",
   "metadata": {},
   "source": [
    "## 1-D Array"
   ]
  },
  {
   "cell_type": "code",
   "execution_count": 3,
   "id": "50122f76",
   "metadata": {},
   "outputs": [
    {
     "name": "stdout",
     "output_type": "stream",
     "text": [
      "[1 2 3 4 5]\n"
     ]
    }
   ],
   "source": [
    "import numpy as np\n",
    "\n",
    "arr = np.array([1, 2, 3, 4, 5])\n",
    "\n",
    "print(arr)"
   ]
  },
  {
   "cell_type": "markdown",
   "id": "f5318b15",
   "metadata": {},
   "source": [
    "## 2-D Array"
   ]
  },
  {
   "cell_type": "code",
   "execution_count": 4,
   "id": "52f4efad",
   "metadata": {},
   "outputs": [
    {
     "name": "stdout",
     "output_type": "stream",
     "text": [
      "[[1 2 3]\n",
      " [4 5 6]]\n"
     ]
    }
   ],
   "source": [
    "import numpy as np\n",
    "\n",
    "arr = np.array([[1, 2, 3], [4, 5, 6]])\n",
    "\n",
    "print(arr)"
   ]
  },
  {
   "cell_type": "markdown",
   "id": "c14347c6",
   "metadata": {},
   "source": [
    "## 3-D Array"
   ]
  },
  {
   "cell_type": "code",
   "execution_count": 5,
   "id": "618d52e2",
   "metadata": {},
   "outputs": [
    {
     "name": "stdout",
     "output_type": "stream",
     "text": [
      "[[[1 2 3]\n",
      "  [4 5 6]]\n",
      "\n",
      " [[1 2 3]\n",
      "  [4 5 6]]]\n"
     ]
    }
   ],
   "source": [
    "import numpy as np\n",
    "\n",
    "arr = np.array([[[1, 2, 3], [4, 5, 6]], [[1, 2, 3], [4, 5, 6]]])\n",
    "\n",
    "print(arr)"
   ]
  },
  {
   "cell_type": "markdown",
   "id": "54f95b6e",
   "metadata": {},
   "source": [
    "## Checking Number of Dimensions"
   ]
  },
  {
   "cell_type": "code",
   "execution_count": null,
   "id": "8921055e",
   "metadata": {},
   "outputs": [],
   "source": [
    "import numpy as np\n",
    "\n",
    "a = np.array(42)\n",
    "b = np.array([1, 2, 3, 4, 5])\n",
    "c = np.array([[1, 2, 3], [4, 5, 6]])\n",
    "d = np.array([[[1, 2, 3], [4, 5, 6]], [[1, 2, 3], [4, 5, 6]]])\n",
    "\n",
    "print(a.ndim)\n",
    "print(b.ndim)\n",
    "print(c.ndim)\n",
    "print(d.ndim)"
   ]
  },
  {
   "cell_type": "markdown",
   "id": "ad850900",
   "metadata": {},
   "source": [
    "## Higher Dimension Arrays"
   ]
  },
  {
   "cell_type": "code",
   "execution_count": 7,
   "id": "2ca8bacb",
   "metadata": {},
   "outputs": [
    {
     "name": "stdout",
     "output_type": "stream",
     "text": [
      "[[[[[1 2 3 4 5]]]]]\n",
      "number of dimensions: 5\n"
     ]
    }
   ],
   "source": [
    "import numpy as np\n",
    "\n",
    "arr = np.array([1, 2, 3, 4, 5], ndmin=5)\n",
    "\n",
    "print(arr)\n",
    "print('number of dimensions:', arr.ndim)"
   ]
  },
  {
   "cell_type": "markdown",
   "id": "a4c20b17",
   "metadata": {},
   "source": [
    "# Access Array Elements"
   ]
  },
  {
   "cell_type": "markdown",
   "id": "f99cffb1",
   "metadata": {},
   "source": [
    "## Accessing 1-D Array"
   ]
  },
  {
   "cell_type": "code",
   "execution_count": 12,
   "id": "7a938bba",
   "metadata": {},
   "outputs": [
    {
     "name": "stdout",
     "output_type": "stream",
     "text": [
      "1\n",
      "2\n",
      "7\n"
     ]
    }
   ],
   "source": [
    "import numpy as np\n",
    "\n",
    "arr = np.array([1, 2, 3, 4, 5])\n",
    "\n",
    "print(arr[0])\n",
    "print(arr[1])\n",
    "print(arr[2] + arr[3])"
   ]
  },
  {
   "cell_type": "markdown",
   "id": "1fab2e4c",
   "metadata": {},
   "source": [
    "## Accessing 2-D Arrays"
   ]
  },
  {
   "cell_type": "code",
   "execution_count": 15,
   "id": "69325f61",
   "metadata": {},
   "outputs": [
    {
     "name": "stdout",
     "output_type": "stream",
     "text": [
      "2nd Element on 1st row 2\n",
      "5th Element on 2nd row 10\n"
     ]
    }
   ],
   "source": [
    "import numpy as np\n",
    "\n",
    "arr = np.array([[1, 2, 3, 4, 5], [6, 7, 8, 9, 10]])\n",
    "\n",
    "print('2nd Element on 1st row', arr[0, 1])\n",
    "print('5th Element on 2nd row', arr[1, 4])"
   ]
  },
  {
   "cell_type": "markdown",
   "id": "1d593e94",
   "metadata": {},
   "source": [
    "## Accessing 3-D Array"
   ]
  },
  {
   "cell_type": "code",
   "execution_count": 16,
   "id": "c5a6226b",
   "metadata": {},
   "outputs": [
    {
     "name": "stdout",
     "output_type": "stream",
     "text": [
      "6\n"
     ]
    }
   ],
   "source": [
    "import numpy as np\n",
    "\n",
    "arr = np.array([[[1, 2, 3], [4, 5, 6]], [[7, 8, 9], [10, 11, 12]]])\n",
    "\n",
    "print(arr[0, 1, 2])"
   ]
  },
  {
   "cell_type": "markdown",
   "id": "fa576c9f",
   "metadata": {},
   "source": [
    "## Negative Indexing"
   ]
  },
  {
   "cell_type": "code",
   "execution_count": 17,
   "id": "95124c63",
   "metadata": {},
   "outputs": [
    {
     "name": "stdout",
     "output_type": "stream",
     "text": [
      "Last element from 2nd dim 10\n"
     ]
    }
   ],
   "source": [
    "import numpy as np\n",
    "\n",
    "arr = np.array([[1, 2, 3, 4, 5], [6, 7, 8, 9, 10]])\n",
    "\n",
    "print(\"Last element from 2nd dim\", arr[1, -1])"
   ]
  }
 ],
 "metadata": {
  "kernelspec": {
   "display_name": "Python 3",
   "language": "python",
   "name": "python3"
  },
  "language_info": {
   "codemirror_mode": {
    "name": "ipython",
    "version": 3
   },
   "file_extension": ".py",
   "mimetype": "text/x-python",
   "name": "python",
   "nbconvert_exporter": "python",
   "pygments_lexer": "ipython3",
   "version": "3.10.11"
  }
 },
 "nbformat": 4,
 "nbformat_minor": 5
}
