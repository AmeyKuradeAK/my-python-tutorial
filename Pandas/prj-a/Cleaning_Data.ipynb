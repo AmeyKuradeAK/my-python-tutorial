{
 "cells": [
  {
   "cell_type": "markdown",
   "id": "8b4e549f",
   "metadata": {},
   "source": [
    "# Cleaning Data"
   ]
  },
  {
   "cell_type": "markdown",
   "id": "7cbdbe6b",
   "metadata": {},
   "source": [
    "1. Bad data\n",
    "    1. Empty Cells\n",
    "    2. Data in wrong Format\n",
    "    3. Wrong Data\n",
    "    4. Duplicates"
   ]
  },
  {
   "cell_type": "markdown",
   "id": "c1eab88a",
   "metadata": {},
   "source": [
    "# -----------------------------------------------------------------"
   ]
  },
  {
   "cell_type": "markdown",
   "id": "3552ec91",
   "metadata": {},
   "source": [
    "# Cleaning Empty Cells"
   ]
  },
  {
   "cell_type": "code",
   "execution_count": null,
   "id": "86e83374",
   "metadata": {},
   "outputs": [],
   "source": [
    "import pandas as pd\n",
    "\n",
    "df = pd.read_csv('pre-cleaning-dataset.csv')\n",
    "\n",
    "new_df = df.dropna(inplace=True)\n",
    "\n",
    "print(df.to_string())\n"
   ]
  },
  {
   "cell_type": "markdown",
   "id": "4f85f339",
   "metadata": {},
   "source": [
    "## Replace Empty Values"
   ]
  },
  {
   "cell_type": "code",
   "execution_count": null,
   "id": "17609cdf",
   "metadata": {},
   "outputs": [],
   "source": [
    "import pandas as pd\n",
    "\n",
    "df = pd.read_csv('pre-cleaning-dataset.csv')\n",
    "\n",
    "df.fillna(130, inplace=True)\n",
    "\n",
    "print(df.to_string())"
   ]
  },
  {
   "cell_type": "markdown",
   "id": "4060b40b",
   "metadata": {},
   "source": [
    "## Replace only for Specified Columns"
   ]
  },
  {
   "cell_type": "code",
   "execution_count": null,
   "id": "58832956",
   "metadata": {},
   "outputs": [],
   "source": [
    "df = pd.read_csv('pre-cleaning-dataset.csv')\n",
    "\n",
    "df[\"Calories\"].fillna(130, inplace=True)\n",
    "\n",
    "print(df.to_string())"
   ]
  },
  {
   "cell_type": "markdown",
   "id": "17f63e14",
   "metadata": {},
   "source": [
    "## Replace using Mean, Median, or Mode"
   ]
  },
  {
   "cell_type": "code",
   "execution_count": null,
   "id": "22068f52",
   "metadata": {},
   "outputs": [],
   "source": [
    "import pandas as pd\n",
    "df = pd.read_csv('pre-cleaning-dataset.csv')\n",
    "\n",
    "x = df[\"Calories\"].mean()\n",
    "\n",
    "df[\"Calories\"].fillna(x, inplace=True)\n",
    "\n",
    "print(df.to_string())"
   ]
  },
  {
   "cell_type": "markdown",
   "id": "d7cfb2ad",
   "metadata": {},
   "source": [
    "> Calculate the Median"
   ]
  },
  {
   "cell_type": "code",
   "execution_count": null,
   "id": "0af7e3de",
   "metadata": {},
   "outputs": [],
   "source": [
    "df = pd.read_csv('pre-cleaning-dataset.csv')\n",
    "\n",
    "x = df[\"Calories\"].median()\n",
    "\n",
    "df[\"Calories\"].fillna(x, inplace=True)\n",
    "\n",
    "print(df.to_string())"
   ]
  },
  {
   "cell_type": "markdown",
   "id": "52eb8c97",
   "metadata": {},
   "source": [
    "> Calculate using MODE"
   ]
  },
  {
   "cell_type": "code",
   "execution_count": null,
   "id": "47f4871a",
   "metadata": {},
   "outputs": [],
   "source": [
    "df = pd.read_csv('pre-cleaning-dataset.csv')\n",
    "\n",
    "x = df[\"Calories\"].mode()[0]\n",
    "\n",
    "df[\"Calories\"].fillna(x, inplace=True)\n",
    "\n",
    "print(df.to_string())"
   ]
  },
  {
   "cell_type": "markdown",
   "id": "3d249211",
   "metadata": {},
   "source": [
    "# ----------------------------------------------------------"
   ]
  },
  {
   "cell_type": "markdown",
   "id": "b3d12414",
   "metadata": {},
   "source": [
    "# Cleaning Data of Wrong Format"
   ]
  }
 ],
 "metadata": {
  "kernelspec": {
   "display_name": "Python 3",
   "language": "python",
   "name": "python3"
  },
  "language_info": {
   "codemirror_mode": {
    "name": "ipython",
    "version": 3
   },
   "file_extension": ".py",
   "mimetype": "text/x-python",
   "name": "python",
   "nbconvert_exporter": "python",
   "pygments_lexer": "ipython3",
   "version": "3.11.0"
  }
 },
 "nbformat": 4,
 "nbformat_minor": 5
}
