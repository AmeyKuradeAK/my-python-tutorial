{
 "cells": [
  {
   "cell_type": "markdown",
   "id": "8b4e549f",
   "metadata": {},
   "source": [
    "# Cleaning Data"
   ]
  },
  {
   "cell_type": "markdown",
   "id": "7cbdbe6b",
   "metadata": {},
   "source": [
    "1. Bad data\n",
    "    1. Empty Cells\n",
    "    2. Data in wrong Format\n",
    "    3. Wrong Data\n",
    "    4. Duplicates"
   ]
  },
  {
   "cell_type": "markdown",
   "id": "c1eab88a",
   "metadata": {},
   "source": [
    "# -----------------------------------------------------------------"
   ]
  },
  {
   "cell_type": "markdown",
   "id": "3552ec91",
   "metadata": {},
   "source": [
    "# Cleaning Empty Cells"
   ]
  },
  {
   "cell_type": "code",
   "execution_count": null,
   "id": "86e83374",
   "metadata": {},
   "outputs": [],
   "source": [
    "import pandas as pd\n",
    "\n",
    "df = pd.read_csv('pre-cleaning-dataset.csv')\n",
    "\n",
    "new_df = df.dropna(inplace=True)\n",
    "\n",
    "print(df.to_string())\n"
   ]
  },
  {
   "cell_type": "markdown",
   "id": "4f85f339",
   "metadata": {},
   "source": [
    "## Replace Empty Values"
   ]
  },
  {
   "cell_type": "code",
   "execution_count": null,
   "id": "17609cdf",
   "metadata": {},
   "outputs": [],
   "source": [
    "import pandas as pd\n",
    "\n",
    "df = pd.read_csv('pre-cleaning-dataset.csv')\n",
    "\n",
    "df.fillna(130, inplace=True)\n",
    "\n",
    "print(df.to_string())"
   ]
  },
  {
   "cell_type": "markdown",
   "id": "4060b40b",
   "metadata": {},
   "source": [
    "## Replace only for Specified Columns"
   ]
  },
  {
   "cell_type": "code",
   "execution_count": null,
   "id": "58832956",
   "metadata": {},
   "outputs": [],
   "source": [
    "df = pd.read_csv('pre-cleaning-dataset.csv')\n",
    "\n",
    "df[\"Calories\"].fillna(130, inplace=True)\n",
    "\n",
    "print(df.to_string())"
   ]
  },
  {
   "cell_type": "markdown",
   "id": "17f63e14",
   "metadata": {},
   "source": [
    "## Replace using Mean, Median, or Mode"
   ]
  },
  {
   "cell_type": "code",
   "execution_count": null,
   "id": "22068f52",
   "metadata": {},
   "outputs": [],
   "source": [
    "import pandas as pd\n",
    "df = pd.read_csv('pre-cleaning-dataset.csv')\n",
    "\n",
    "x = df[\"Calories\"].mean()\n",
    "\n",
    "df[\"Calories\"].fillna(x, inplace=True)\n",
    "\n",
    "print(df.to_string())"
   ]
  },
  {
   "cell_type": "markdown",
   "id": "d7cfb2ad",
   "metadata": {},
   "source": [
    "> Calculate the Median"
   ]
  },
  {
   "cell_type": "code",
   "execution_count": null,
   "id": "0af7e3de",
   "metadata": {},
   "outputs": [],
   "source": [
    "df = pd.read_csv('pre-cleaning-dataset.csv')\n",
    "\n",
    "x = df[\"Calories\"].median()\n",
    "\n",
    "df[\"Calories\"].fillna(x, inplace=True)\n",
    "\n",
    "print(df.to_string())"
   ]
  },
  {
   "cell_type": "markdown",
   "id": "52eb8c97",
   "metadata": {},
   "source": [
    "> Calculate using MODE"
   ]
  },
  {
   "cell_type": "code",
   "execution_count": 4,
   "id": "47f4871a",
   "metadata": {},
   "outputs": [
    {
     "name": "stdout",
     "output_type": "stream",
     "text": [
      "    Duration          Date  Pulse  Maxpulse  Calories\n",
      "0         60  '2020/12/01'    110       130     409.1\n",
      "1         60  '2020/12/02'    117       145     479.0\n",
      "2         60  '2020/12/03'    103       135     340.0\n",
      "3         45  '2020/12/04'    109       175     282.4\n",
      "4         45  '2020/12/05'    117       148     406.0\n",
      "5         60  '2020/12/06'    102       127     300.0\n",
      "6         60  '2020/12/07'    110       136     374.0\n",
      "7        450  '2020/12/08'    104       134     253.3\n",
      "8         30  '2020/12/09'    109       133     195.1\n",
      "9         60  '2020/12/10'     98       124     269.0\n",
      "10        60  '2020/12/11'    103       147     329.3\n",
      "11        60  '2020/12/12'    100       120     250.7\n",
      "12        60  '2020/12/12'    100       120     250.7\n",
      "13        60  '2020/12/13'    106       128     345.3\n",
      "14        60  '2020/12/14'    104       132     379.3\n",
      "15        60  '2020/12/15'     98       123     275.0\n",
      "16        60  '2020/12/16'     98       120     215.2\n",
      "17        60  '2020/12/17'    100       120     300.0\n",
      "18        45  '2020/12/18'     90       112     300.0\n",
      "19        60  '2020/12/19'    103       123     323.0\n",
      "20        45  '2020/12/20'     97       125     243.0\n",
      "21        60  '2020/12/21'    108       131     364.2\n",
      "22        45           NaN    100       119     282.0\n",
      "23        60  '2020/12/23'    130       101     300.0\n",
      "24        45  '2020/12/24'    105       132     246.0\n",
      "25        60  '2020/12/25'    102       126     334.5\n",
      "26        60      20201226    100       120     250.0\n",
      "27        60  '2020/12/27'     92       118     241.0\n",
      "28        60  '2020/12/28'    103       132     300.0\n",
      "29        60  '2020/12/29'    100       132     280.0\n",
      "30        60  '2020/12/30'    102       129     380.3\n",
      "31        60  '2020/12/31'     92       115     243.0\n"
     ]
    },
    {
     "name": "stderr",
     "output_type": "stream",
     "text": [
      "C:\\Users\\ameyk\\AppData\\Local\\Temp\\ipykernel_6028\\3572035756.py:5: FutureWarning: A value is trying to be set on a copy of a DataFrame or Series through chained assignment using an inplace method.\n",
      "The behavior will change in pandas 3.0. This inplace method will never work because the intermediate object on which we are setting values always behaves as a copy.\n",
      "\n",
      "For example, when doing 'df[col].method(value, inplace=True)', try using 'df.method({col: value}, inplace=True)' or df[col] = df[col].method(value) instead, to perform the operation inplace on the original object.\n",
      "\n",
      "\n",
      "  df[\"Calories\"].fillna(x, inplace=True)\n"
     ]
    }
   ],
   "source": [
    "df = pd.read_csv('pre-cleaning-dataset.csv')\n",
    "\n",
    "x = df[\"Calories\"].mode()[0]\n",
    "\n",
    "df[\"Calories\"].fillna(x, inplace=True)\n",
    "\n",
    "print(df.to_string())"
   ]
  },
  {
   "cell_type": "markdown",
   "id": "3d249211",
   "metadata": {},
   "source": [
    "# ----------------------------------------------------------"
   ]
  },
  {
   "cell_type": "markdown",
   "id": "b3d12414",
   "metadata": {},
   "source": [
    "# Cleaning Data of Wrong Format"
   ]
  },
  {
   "cell_type": "code",
   "execution_count": null,
   "id": "b2a6bcb2",
   "metadata": {},
   "outputs": [],
   "source": [
    "import pandas as pd\n",
    "\n",
    "df = pd.read_csv('new.csv')\n",
    "\n",
    "\n",
    "df['Date'] = pd.to_datetime(df['Date'], errors='coerce')\n",
    "\n",
    "\n",
    "print(df.to_string())"
   ]
  },
  {
   "cell_type": "markdown",
   "id": "a676116d",
   "metadata": {},
   "source": [
    "# -------------------------------------------------"
   ]
  },
  {
   "cell_type": "markdown",
   "id": "547c07d2",
   "metadata": {},
   "source": [
    "# Fixing Wrong Data"
   ]
  },
  {
   "cell_type": "code",
   "execution_count": null,
   "id": "1f98ae08",
   "metadata": {},
   "outputs": [],
   "source": [
    "import pandas as pd\n",
    "\n",
    "df = pd.read_csv('data.csv')\n",
    "\n",
    "df.loc[7,'Duration'] = 45\n",
    "\n",
    "print(df.to_string())"
   ]
  },
  {
   "cell_type": "markdown",
   "id": "21d14897",
   "metadata": {},
   "source": [
    "# -----------------------------------------------------------------"
   ]
  },
  {
   "cell_type": "markdown",
   "id": "8c649230",
   "metadata": {},
   "source": [
    "# Removing Duplicates"
   ]
  },
  {
   "cell_type": "markdown",
   "id": "14919832",
   "metadata": {},
   "source": [
    "## Analysing Duplicates"
   ]
  },
  {
   "cell_type": "code",
   "execution_count": null,
   "id": "64d2a069",
   "metadata": {},
   "outputs": [],
   "source": [
    "import pandas as pd\n",
    "\n",
    "df = pd.read_csv('new.csv')\n",
    "\n",
    "print(df.duplicated())\n"
   ]
  },
  {
   "cell_type": "markdown",
   "id": "6e561b64",
   "metadata": {},
   "source": [
    "## Removing Duplicates"
   ]
  },
  {
   "cell_type": "code",
   "execution_count": null,
   "id": "f8a39da4",
   "metadata": {},
   "outputs": [],
   "source": [
    "import pandas as pd\n",
    "\n",
    "df = pd.read_csv('new.csv')\n",
    "\n",
    "df.drop_duplicates(inplace=True)\n",
    "\n",
    "print(df.to_string())"
   ]
  }
 ],
 "metadata": {
  "kernelspec": {
   "display_name": "Python 3",
   "language": "python",
   "name": "python3"
  },
  "language_info": {
   "codemirror_mode": {
    "name": "ipython",
    "version": 3
   },
   "file_extension": ".py",
   "mimetype": "text/x-python",
   "name": "python",
   "nbconvert_exporter": "python",
   "pygments_lexer": "ipython3",
   "version": "3.10.11"
  }
 },
 "nbformat": 4,
 "nbformat_minor": 5
}
